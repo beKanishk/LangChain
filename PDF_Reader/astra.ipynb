{
 "cells": [
  {
   "cell_type": "code",
   "execution_count": 1,
   "id": "a6cd0f1e",
   "metadata": {},
   "outputs": [],
   "source": [
    "from astrapy import DataAPIClient"
   ]
  },
  {
   "cell_type": "code",
   "execution_count": 8,
   "id": "bc4945f3",
   "metadata": {},
   "outputs": [],
   "source": [
    "import os\n",
    "from dotenv import load_dotenv\n",
    "load_dotenv()\n",
    "\n",
    "ASTRA_TOKEN = os.environ[\"ASTRA_DB_APPLICATION_TOKEN\"]"
   ]
  },
  {
   "cell_type": "code",
   "execution_count": 9,
   "id": "4e21b54d",
   "metadata": {},
   "outputs": [],
   "source": [
    "my_client = DataAPIClient(ASTRA_TOKEN)"
   ]
  },
  {
   "cell_type": "code",
   "execution_count": 10,
   "id": "1e90edfc",
   "metadata": {},
   "outputs": [],
   "source": [
    "my_astra_db_admin = my_client.get_admin()"
   ]
  },
  {
   "cell_type": "code",
   "execution_count": 11,
   "id": "40269391",
   "metadata": {},
   "outputs": [],
   "source": [
    "database_list = my_astra_db_admin.list_databases()"
   ]
  },
  {
   "cell_type": "code",
   "execution_count": 13,
   "id": "8d96bcc9",
   "metadata": {},
   "outputs": [
    {
     "name": "stdout",
     "output_type": "stream",
     "text": [
      "[AstraDBAdminDatabaseInfo(id=30544d98-22fd-4c5d-8518-b58bc1e0304c, name=pdf_chunks, keyspaces=['default_keyspace', 'pdf'], status=ACTIVE, environment=prod, cloud_provider=AWS, created_at=2025-06-03 13:16:13+00:00, last_used=2025-07-15 13:41:56+00:00, org_id=659d7f84-8d79-430c-b4e4-ec782ac85b38, owner_id=f82c87b3-c1e4-46f4-8f74-000f8b5439d0, regions=[AstraDBAdminDatabaseRegionInfo(region_name=us-east-2, id=30544d98-22fd-4c5d-8518-b58bc1e0304c-1, api_endpoint=https://30544d98-22fd-4c5d-8518-b58bc1e0304c-us-east-2.apps.astra.datastax.com, created_at=2025-06-03 13:16:13+00:00)], raw=...)]\n"
     ]
    }
   ],
   "source": [
    "len(database_list)\n",
    "print(database_list)"
   ]
  },
  {
   "cell_type": "code",
   "execution_count": 14,
   "id": "caf211bb",
   "metadata": {},
   "outputs": [
    {
     "data": {
      "text/plain": [
       "'30544d98-22fd-4c5d-8518-b58bc1e0304c'"
      ]
     },
     "execution_count": 14,
     "metadata": {},
     "output_type": "execute_result"
    }
   ],
   "source": [
    "database_list[0].id"
   ]
  },
  {
   "cell_type": "code",
   "execution_count": 16,
   "id": "43af0285",
   "metadata": {},
   "outputs": [],
   "source": [
    "my_db_admin = my_astra_db_admin.get_database_admin(\n",
    "    id=\"30544d98-22fd-4c5d-8518-b58bc1e0304c\", \n",
    "    region=\"us-east-2\"  # replace with your actual region\n",
    ")\n"
   ]
  },
  {
   "cell_type": "code",
   "execution_count": null,
   "id": "6a9a9055",
   "metadata": {},
   "outputs": [
    {
     "name": "stdout",
     "output_type": "stream",
     "text": [
      "Connected to Astra DB: ['movie_reviews', 'pdf_chunks']\n"
     ]
    }
   ],
   "source": [
    "db = my_client.get_database_by_api_endpoint(\n",
    "  \"your_database_api_endpoint\",  # replace with your actual API endpoint\n",
    "    keyspace=\"default_keyspace\",\n",
    ")\n",
    "      \n",
    "print(f\"Connected to Astra DB: {db.list_collection_names()}\")"
   ]
  },
  {
   "cell_type": "code",
   "execution_count": 19,
   "id": "93ec11dd",
   "metadata": {},
   "outputs": [
    {
     "name": "stdout",
     "output_type": "stream",
     "text": [
      "Inserted document IDs: ['ad723d52-2737-40fb-b23d-52273720fbdc', '13990e8b-8691-4e43-990e-8b8691ae4384']\n"
     ]
    }
   ],
   "source": [
    "from astrapy import DataAPIClient\n",
    "import os\n",
    "from dotenv import load_dotenv\n",
    "\n",
    "# Load environment variables\n",
    "load_dotenv()\n",
    "\n",
    "# Load credentials from .env\n",
    "ASTRA_DB_ID = os.getenv(\"ASTRA_DB_ID\")\n",
    "ASTRA_DB_REGION = os.getenv(\"ASTRA_DB_REGION\")\n",
    "ASTRA_DB_APPLICATION_TOKEN = os.getenv(\"ASTRA_DB_APPLICATION_TOKEN\")\n",
    "ASTRA_COLLECTION = os.getenv(\"ASTRA_COLLECTION\") or \"my_collection\"\n",
    "\n",
    "# Construct API endpoint\n",
    "API_ENDPOINT = f\"https://{ASTRA_DB_ID}-{ASTRA_DB_REGION}.apps.astra.datastax.com\"\n",
    "\n",
    "# Initialize client and connect to DB\n",
    "client = DataAPIClient()\n",
    "database = client.get_database(\n",
    "    API_ENDPOINT,\n",
    "    token=ASTRA_DB_APPLICATION_TOKEN,\n",
    ")\n",
    "collection = database.get_collection(ASTRA_COLLECTION)\n",
    "\n",
    "# Insert sample documents\n",
    "result = collection.insert_many([\n",
    "    {\"name\": \"Jane Doe\", \"age\": 42},\n",
    "    {\"nickname\": \"Bobby\", \"color\": \"blue\", \"foods\": [\"carrots\", \"chocolate\"]}\n",
    "])\n",
    "\n",
    "print(\"Inserted document IDs:\", result.inserted_ids)\n"
   ]
  }
 ],
 "metadata": {
  "kernelspec": {
   "display_name": "langchain-app",
   "language": "python",
   "name": "python3"
  },
  "language_info": {
   "codemirror_mode": {
    "name": "ipython",
    "version": 3
   },
   "file_extension": ".py",
   "mimetype": "text/x-python",
   "name": "python",
   "nbconvert_exporter": "python",
   "pygments_lexer": "ipython3",
   "version": "3.9.23"
  }
 },
 "nbformat": 4,
 "nbformat_minor": 5
}
